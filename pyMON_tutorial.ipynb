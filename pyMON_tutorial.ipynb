{
 "cells": [
  {
   "cell_type": "code",
   "execution_count": 3,
   "id": "83fe9531-e654-407a-8ab9-075f7181ae76",
   "metadata": {},
   "outputs": [
    {
     "name": "stdout",
     "output_type": "stream",
     "text": [
      "Using matplotlib backend: <object object at 0x78a1585305e0>\n"
     ]
    }
   ],
   "source": [
    "from pyMON import pyMON\n",
    "import lightkurve as lk \n",
    "%matplotlib\n",
    "import matplotlib.pyplot as plt\n",
    "from astropy.io import fits\n",
    "from astropy.table import Table"
   ]
  },
  {
   "cell_type": "code",
   "execution_count": 4,
   "id": "0d41019d-d13e-478d-a24d-7fafecd9b26c",
   "metadata": {},
   "outputs": [],
   "source": [
    "## Load KEPSEISMIC lightcurve for KIC 2707716\n",
    "\n",
    "Star_ID = 2707716\n",
    "\n",
    "filename_lc = f'./example_files/hlsp_kepseismic_kepler_phot_kplr00{Star_ID}-55d_kepler_v1_cor-filt-inp.fits'\n",
    "\n",
    "hdul_lc = fits.open(filename_lc)\n",
    "\n",
    "star_lc = Table(hdul_lc[1].data).to_pandas()\n",
    "\n",
    "hdul_lc.close()\n",
    "\n",
    "time = star_lc.TIME.values\n",
    "\n",
    "### Load KEPSEISMIC power spectrum for KIC 2707716\n",
    "\n",
    "filename_psd = f'./example_files/hlsp_kepseismic_kepler_phot_kplr00{Star_ID}-55d_kepler_v1_cor-psd-filt-inp.fits'\n",
    "\n",
    "hdul_psd = fits.open(filename_psd)\n",
    "\n",
    "star_psd = Table(hdul_psd[1].data).to_pandas()\n",
    "\n",
    "hdul_psd.close()\n",
    "\n",
    "frequency, power = star_psd.TIME.values, star_psd.FLUX.values\n",
    "\n",
    "frequency = frequency * 10**6   # convert to muHz"
   ]
  },
  {
   "cell_type": "code",
   "execution_count": 5,
   "id": "6df40531-191d-4a7a-b32d-fa99809e2f8b",
   "metadata": {},
   "outputs": [
    {
     "name": "stdout",
     "output_type": "stream",
     "text": [
      "Parameters for 2707716:\n",
      "White noise metric=  383.94696775033657  ppm^2/muHz\n",
      "Measured numax =  30.09253865656354\n",
      "Measured Amplitude =  9141.914534045487\n",
      "Measured width =  14.044652277167188\n",
      "------------------------------------------------------\n",
      "Running sampling routine:\n"
     ]
    },
    {
     "name": "stderr",
     "output_type": "stream",
     "text": [
      "100%|████████████████████████████████████████▉| 499/500 [00:15<00:00, 32.09it/s]"
     ]
    },
    {
     "name": "stdout",
     "output_type": "stream",
     "text": [
      "Parameters for 2707716:\n",
      "Nyquist frequency (from light curve) = 283.2099728978449 muHz\n",
      "Measured numax =  30.09253865656354 +/- 0.7180218146299191 muHz ( 2.386045999058009 %)\n",
      "Measured Amplitude =  9141.914534045487 +/- 898.717043007104 ppm^2/muHz\n",
      "Measured width =  14.044652277167188 +/- 0.930164623497853 muHz\n"
     ]
    },
    {
     "data": {
      "text/html": [
       "<div>\n",
       "<style scoped>\n",
       "    .dataframe tbody tr th:only-of-type {\n",
       "        vertical-align: middle;\n",
       "    }\n",
       "\n",
       "    .dataframe tbody tr th {\n",
       "        vertical-align: top;\n",
       "    }\n",
       "\n",
       "    .dataframe thead th {\n",
       "        text-align: right;\n",
       "    }\n",
       "</style>\n",
       "<table border=\"1\" class=\"dataframe\">\n",
       "  <thead>\n",
       "    <tr style=\"text-align: right;\">\n",
       "      <th></th>\n",
       "      <th>Star_ID</th>\n",
       "      <th>numax_predicted</th>\n",
       "      <th>Dnu_relation</th>\n",
       "      <th>lowerp</th>\n",
       "      <th>upperp</th>\n",
       "      <th>sm</th>\n",
       "      <th>background_model</th>\n",
       "      <th>numax_measured</th>\n",
       "      <th>numax_uncertainty</th>\n",
       "      <th>peak_measured</th>\n",
       "      <th>peak_uncertainty</th>\n",
       "      <th>width_measured</th>\n",
       "      <th>width_uncertainty</th>\n",
       "      <th>mc_iters</th>\n",
       "    </tr>\n",
       "  </thead>\n",
       "  <tbody>\n",
       "    <tr>\n",
       "      <th>0</th>\n",
       "      <td>2707716</td>\n",
       "      <td>30.543817</td>\n",
       "      <td>Yu18</td>\n",
       "      <td>None</td>\n",
       "      <td>None</td>\n",
       "      <td>2</td>\n",
       "      <td>linear</td>\n",
       "      <td>30.092539</td>\n",
       "      <td>0.718022</td>\n",
       "      <td>9141.914534</td>\n",
       "      <td>898.717043</td>\n",
       "      <td>14.044652</td>\n",
       "      <td>0.930165</td>\n",
       "      <td>500</td>\n",
       "    </tr>\n",
       "  </tbody>\n",
       "</table>\n",
       "</div>"
      ],
      "text/plain": [
       "   Star_ID  numax_predicted Dnu_relation lowerp upperp  sm background_model  \\\n",
       "0  2707716        30.543817         Yu18   None   None   2           linear   \n",
       "\n",
       "   numax_measured  numax_uncertainty  peak_measured  peak_uncertainty  \\\n",
       "0       30.092539           0.718022    9141.914534        898.717043   \n",
       "\n",
       "   width_measured  width_uncertainty  mc_iters  \n",
       "0       14.044652           0.930165       500  "
      ]
     },
     "execution_count": 5,
     "metadata": {},
     "output_type": "execute_result"
    },
    {
     "name": "stderr",
     "output_type": "stream",
     "text": [
      "100%|█████████████████████████████████████████| 500/500 [00:30<00:00, 32.09it/s]"
     ]
    }
   ],
   "source": [
    "## Run pyMON\n",
    "\n",
    "# Smoothing scaling parameter\n",
    "sm = 2\n",
    "\n",
    "# Lower frequency to search for power excess. If set to None, the lowerp frequency will be determined from a full width half max estimate\n",
    "lowerp = None\n",
    "\n",
    "# Upper frequency to search for power excess. If set to None, the upperp frequency will be determined from a full width half max estimate\n",
    "upperp = None\n",
    "\n",
    "# background model to fit to power spectrum. Choice between: ['nuSYD', 'harvey', 'linear', 'white']\n",
    "bkg_model = 'linear'\n",
    "\n",
    "# an estimate for numax in muHz\n",
    "numax_est = 30.42  # from APOKASC3 (Pinsonneault et al., 2025)\n",
    "\n",
    "# number of interactions for the mc uncertainty sampling routine. Default is 500. Set to '0' to not estimate uncertainties\n",
    "mc_iters = 500\n",
    "\n",
    "# either a key which points to a coefficient and exponent in a seperate file, or a coefficient+exponent in a list\n",
    "# for the a general dnu-numax relation derived from 16,000 Kepler stars, use the key 'Yu18' (Yu et al., 2018) \n",
    "Dnu_relation = 'Yu18'\n",
    "\n",
    "\n",
    "# save inputs as a dictionary (must be passed into pyMON as a dict with all parameters)\n",
    "inputs = {'sm': sm, 'lowerp': lowerp, 'upperp': upperp, 'background_model': bkg_model, \n",
    "          'numax_est': numax_est, 'mc_iters': mc_iters, 'Dnu_relation': Dnu_relation}\n",
    "\n",
    "\n",
    "\n",
    "pyMON_df = pyMON(frequency, power, time, Star_ID, inputs)\n",
    "\n",
    "\n",
    "\n",
    "pyMON_df"
   ]
  },
  {
   "cell_type": "code",
   "execution_count": null,
   "id": "246bba05-eef1-463f-b36d-5f85f30962eb",
   "metadata": {},
   "outputs": [],
   "source": []
  }
 ],
 "metadata": {
  "kernelspec": {
   "display_name": "Python 3 (ipykernel)",
   "language": "python",
   "name": "python3"
  },
  "language_info": {
   "codemirror_mode": {
    "name": "ipython",
    "version": 3
   },
   "file_extension": ".py",
   "mimetype": "text/x-python",
   "name": "python",
   "nbconvert_exporter": "python",
   "pygments_lexer": "ipython3",
   "version": "3.10.12"
  }
 },
 "nbformat": 4,
 "nbformat_minor": 5
}
