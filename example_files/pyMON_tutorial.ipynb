{
 "cells": [
  {
   "cell_type": "code",
   "execution_count": 1,
   "id": "83fe9531-e654-407a-8ab9-075f7181ae76",
   "metadata": {},
   "outputs": [
    {
     "name": "stdout",
     "output_type": "stream",
     "text": [
      "Using matplotlib backend: module://matplotlib_inline.backend_inline\n"
     ]
    }
   ],
   "source": [
    "from pyMON.pyMON import pyMON\n",
    "import lightkurve as lk \n",
    "%matplotlib\n",
    "import matplotlib.pyplot as plt\n",
    "from astropy.io import fits\n",
    "from astropy.table import Table"
   ]
  },
  {
   "cell_type": "code",
   "execution_count": 2,
   "id": "0d41019d-d13e-478d-a24d-7fafecd9b26c",
   "metadata": {},
   "outputs": [
    {
     "ename": "FileNotFoundError",
     "evalue": "[Errno 2] No such file or directory: './hlsp_kepseismic_kepler_phot_kplr002707716-55d_kepler_v1_cor-filt-inp.fits'",
     "output_type": "error",
     "traceback": [
      "\u001b[0;31m---------------------------------------------------------------------------\u001b[0m",
      "\u001b[0;31mFileNotFoundError\u001b[0m                         Traceback (most recent call last)",
      "Cell \u001b[0;32mIn[2], line 7\u001b[0m\n\u001b[1;32m      3\u001b[0m Star_ID \u001b[38;5;241m=\u001b[39m \u001b[38;5;241m2707716\u001b[39m\n\u001b[1;32m      5\u001b[0m filename_lc \u001b[38;5;241m=\u001b[39m \u001b[38;5;124mf\u001b[39m\u001b[38;5;124m'\u001b[39m\u001b[38;5;124m./hlsp_kepseismic_kepler_phot_kplr00\u001b[39m\u001b[38;5;132;01m{\u001b[39;00mStar_ID\u001b[38;5;132;01m}\u001b[39;00m\u001b[38;5;124m-55d_kepler_v1_cor-filt-inp.fits\u001b[39m\u001b[38;5;124m'\u001b[39m\n\u001b[0;32m----> 7\u001b[0m hdul_lc \u001b[38;5;241m=\u001b[39m fits\u001b[38;5;241m.\u001b[39mopen(filename_lc)\n\u001b[1;32m      9\u001b[0m star_lc \u001b[38;5;241m=\u001b[39m Table(hdul_lc[\u001b[38;5;241m1\u001b[39m]\u001b[38;5;241m.\u001b[39mdata)\u001b[38;5;241m.\u001b[39mto_pandas()\n\u001b[1;32m     11\u001b[0m hdul_lc\u001b[38;5;241m.\u001b[39mclose()\n",
      "File \u001b[0;32m/opt/anaconda3/lib/python3.12/site-packages/astropy/io/fits/hdu/hdulist.py:223\u001b[0m, in \u001b[0;36mfitsopen\u001b[0;34m(name, mode, memmap, save_backup, cache, lazy_load_hdus, ignore_missing_simple, use_fsspec, fsspec_kwargs, decompress_in_memory, **kwargs)\u001b[0m\n\u001b[1;32m    220\u001b[0m \u001b[38;5;28;01mif\u001b[39;00m \u001b[38;5;129;01mnot\u001b[39;00m name:\n\u001b[1;32m    221\u001b[0m     \u001b[38;5;28;01mraise\u001b[39;00m \u001b[38;5;167;01mValueError\u001b[39;00m(\u001b[38;5;124mf\u001b[39m\u001b[38;5;124m\"\u001b[39m\u001b[38;5;124mEmpty filename: \u001b[39m\u001b[38;5;132;01m{\u001b[39;00mname\u001b[38;5;132;01m!r}\u001b[39;00m\u001b[38;5;124m\"\u001b[39m)\n\u001b[0;32m--> 223\u001b[0m \u001b[38;5;28;01mreturn\u001b[39;00m HDUList\u001b[38;5;241m.\u001b[39mfromfile(\n\u001b[1;32m    224\u001b[0m     name,\n\u001b[1;32m    225\u001b[0m     mode,\n\u001b[1;32m    226\u001b[0m     memmap,\n\u001b[1;32m    227\u001b[0m     save_backup,\n\u001b[1;32m    228\u001b[0m     cache,\n\u001b[1;32m    229\u001b[0m     lazy_load_hdus,\n\u001b[1;32m    230\u001b[0m     ignore_missing_simple,\n\u001b[1;32m    231\u001b[0m     use_fsspec\u001b[38;5;241m=\u001b[39muse_fsspec,\n\u001b[1;32m    232\u001b[0m     fsspec_kwargs\u001b[38;5;241m=\u001b[39mfsspec_kwargs,\n\u001b[1;32m    233\u001b[0m     decompress_in_memory\u001b[38;5;241m=\u001b[39mdecompress_in_memory,\n\u001b[1;32m    234\u001b[0m     \u001b[38;5;241m*\u001b[39m\u001b[38;5;241m*\u001b[39mkwargs,\n\u001b[1;32m    235\u001b[0m )\n",
      "File \u001b[0;32m/opt/anaconda3/lib/python3.12/site-packages/astropy/io/fits/hdu/hdulist.py:487\u001b[0m, in \u001b[0;36mHDUList.fromfile\u001b[0;34m(cls, fileobj, mode, memmap, save_backup, cache, lazy_load_hdus, ignore_missing_simple, **kwargs)\u001b[0m\n\u001b[1;32m    468\u001b[0m \u001b[38;5;129m@classmethod\u001b[39m\n\u001b[1;32m    469\u001b[0m \u001b[38;5;28;01mdef\u001b[39;00m \u001b[38;5;21mfromfile\u001b[39m(\n\u001b[1;32m    470\u001b[0m     \u001b[38;5;28mcls\u001b[39m,\n\u001b[0;32m   (...)\u001b[0m\n\u001b[1;32m    478\u001b[0m     \u001b[38;5;241m*\u001b[39m\u001b[38;5;241m*\u001b[39mkwargs,\n\u001b[1;32m    479\u001b[0m ):\n\u001b[1;32m    480\u001b[0m \u001b[38;5;250m    \u001b[39m\u001b[38;5;124;03m\"\"\"\u001b[39;00m\n\u001b[1;32m    481\u001b[0m \u001b[38;5;124;03m    Creates an `HDUList` instance from a file-like object.\u001b[39;00m\n\u001b[1;32m    482\u001b[0m \n\u001b[0;32m   (...)\u001b[0m\n\u001b[1;32m    485\u001b[0m \u001b[38;5;124;03m    documentation for details of the parameters accepted by this method).\u001b[39;00m\n\u001b[1;32m    486\u001b[0m \u001b[38;5;124;03m    \"\"\"\u001b[39;00m\n\u001b[0;32m--> 487\u001b[0m     \u001b[38;5;28;01mreturn\u001b[39;00m \u001b[38;5;28mcls\u001b[39m\u001b[38;5;241m.\u001b[39m_readfrom(\n\u001b[1;32m    488\u001b[0m         fileobj\u001b[38;5;241m=\u001b[39mfileobj,\n\u001b[1;32m    489\u001b[0m         mode\u001b[38;5;241m=\u001b[39mmode,\n\u001b[1;32m    490\u001b[0m         memmap\u001b[38;5;241m=\u001b[39mmemmap,\n\u001b[1;32m    491\u001b[0m         save_backup\u001b[38;5;241m=\u001b[39msave_backup,\n\u001b[1;32m    492\u001b[0m         cache\u001b[38;5;241m=\u001b[39mcache,\n\u001b[1;32m    493\u001b[0m         ignore_missing_simple\u001b[38;5;241m=\u001b[39mignore_missing_simple,\n\u001b[1;32m    494\u001b[0m         lazy_load_hdus\u001b[38;5;241m=\u001b[39mlazy_load_hdus,\n\u001b[1;32m    495\u001b[0m         \u001b[38;5;241m*\u001b[39m\u001b[38;5;241m*\u001b[39mkwargs,\n\u001b[1;32m    496\u001b[0m     )\n",
      "File \u001b[0;32m/opt/anaconda3/lib/python3.12/site-packages/astropy/io/fits/hdu/hdulist.py:1169\u001b[0m, in \u001b[0;36mHDUList._readfrom\u001b[0;34m(cls, fileobj, data, mode, memmap, cache, lazy_load_hdus, ignore_missing_simple, use_fsspec, fsspec_kwargs, decompress_in_memory, **kwargs)\u001b[0m\n\u001b[1;32m   1166\u001b[0m \u001b[38;5;28;01mif\u001b[39;00m fileobj \u001b[38;5;129;01mis\u001b[39;00m \u001b[38;5;129;01mnot\u001b[39;00m \u001b[38;5;28;01mNone\u001b[39;00m:\n\u001b[1;32m   1167\u001b[0m     \u001b[38;5;28;01mif\u001b[39;00m \u001b[38;5;129;01mnot\u001b[39;00m \u001b[38;5;28misinstance\u001b[39m(fileobj, _File):\n\u001b[1;32m   1168\u001b[0m         \u001b[38;5;66;03m# instantiate a FITS file object (ffo)\u001b[39;00m\n\u001b[0;32m-> 1169\u001b[0m         fileobj \u001b[38;5;241m=\u001b[39m _File(\n\u001b[1;32m   1170\u001b[0m             fileobj,\n\u001b[1;32m   1171\u001b[0m             mode\u001b[38;5;241m=\u001b[39mmode,\n\u001b[1;32m   1172\u001b[0m             memmap\u001b[38;5;241m=\u001b[39mmemmap,\n\u001b[1;32m   1173\u001b[0m             cache\u001b[38;5;241m=\u001b[39mcache,\n\u001b[1;32m   1174\u001b[0m             use_fsspec\u001b[38;5;241m=\u001b[39muse_fsspec,\n\u001b[1;32m   1175\u001b[0m             fsspec_kwargs\u001b[38;5;241m=\u001b[39mfsspec_kwargs,\n\u001b[1;32m   1176\u001b[0m             decompress_in_memory\u001b[38;5;241m=\u001b[39mdecompress_in_memory,\n\u001b[1;32m   1177\u001b[0m         )\n\u001b[1;32m   1178\u001b[0m     \u001b[38;5;66;03m# The Astropy mode is determined by the _File initializer if the\u001b[39;00m\n\u001b[1;32m   1179\u001b[0m     \u001b[38;5;66;03m# supplied mode was None\u001b[39;00m\n\u001b[1;32m   1180\u001b[0m     mode \u001b[38;5;241m=\u001b[39m fileobj\u001b[38;5;241m.\u001b[39mmode\n",
      "File \u001b[0;32m/opt/anaconda3/lib/python3.12/site-packages/astropy/io/fits/file.py:218\u001b[0m, in \u001b[0;36m_File.__init__\u001b[0;34m(self, fileobj, mode, memmap, overwrite, cache, use_fsspec, fsspec_kwargs, decompress_in_memory)\u001b[0m\n\u001b[1;32m    216\u001b[0m     \u001b[38;5;28mself\u001b[39m\u001b[38;5;241m.\u001b[39m_open_fileobj(fileobj, mode, overwrite)\n\u001b[1;32m    217\u001b[0m \u001b[38;5;28;01melif\u001b[39;00m \u001b[38;5;28misinstance\u001b[39m(fileobj, (\u001b[38;5;28mstr\u001b[39m, \u001b[38;5;28mbytes\u001b[39m)):\n\u001b[0;32m--> 218\u001b[0m     \u001b[38;5;28mself\u001b[39m\u001b[38;5;241m.\u001b[39m_open_filename(fileobj, mode, overwrite)\n\u001b[1;32m    219\u001b[0m \u001b[38;5;28;01melse\u001b[39;00m:\n\u001b[1;32m    220\u001b[0m     \u001b[38;5;28mself\u001b[39m\u001b[38;5;241m.\u001b[39m_open_filelike(fileobj, mode, overwrite)\n",
      "File \u001b[0;32m/opt/anaconda3/lib/python3.12/site-packages/astropy/io/fits/file.py:651\u001b[0m, in \u001b[0;36m_File._open_filename\u001b[0;34m(self, filename, mode, overwrite)\u001b[0m\n\u001b[1;32m    648\u001b[0m ext \u001b[38;5;241m=\u001b[39m os\u001b[38;5;241m.\u001b[39mpath\u001b[38;5;241m.\u001b[39msplitext(\u001b[38;5;28mself\u001b[39m\u001b[38;5;241m.\u001b[39mname)[\u001b[38;5;241m1\u001b[39m]\n\u001b[1;32m    650\u001b[0m \u001b[38;5;28;01mif\u001b[39;00m \u001b[38;5;129;01mnot\u001b[39;00m \u001b[38;5;28mself\u001b[39m\u001b[38;5;241m.\u001b[39m_try_read_compressed(\u001b[38;5;28mself\u001b[39m\u001b[38;5;241m.\u001b[39mname, magic, mode, ext\u001b[38;5;241m=\u001b[39mext):\n\u001b[0;32m--> 651\u001b[0m     \u001b[38;5;28mself\u001b[39m\u001b[38;5;241m.\u001b[39m_file \u001b[38;5;241m=\u001b[39m \u001b[38;5;28mopen\u001b[39m(\u001b[38;5;28mself\u001b[39m\u001b[38;5;241m.\u001b[39mname, IO_FITS_MODES[mode])\n\u001b[1;32m    652\u001b[0m     \u001b[38;5;28mself\u001b[39m\u001b[38;5;241m.\u001b[39mclose_on_error \u001b[38;5;241m=\u001b[39m \u001b[38;5;28;01mTrue\u001b[39;00m\n\u001b[1;32m    654\u001b[0m \u001b[38;5;66;03m# Make certain we're back at the beginning of the file\u001b[39;00m\n\u001b[1;32m    655\u001b[0m \u001b[38;5;66;03m# BZ2File does not support seek when the file is open for writing, but\u001b[39;00m\n\u001b[1;32m    656\u001b[0m \u001b[38;5;66;03m# when opening a file for write, bz2.BZ2File always truncates anyway.\u001b[39;00m\n",
      "\u001b[0;31mFileNotFoundError\u001b[0m: [Errno 2] No such file or directory: './hlsp_kepseismic_kepler_phot_kplr002707716-55d_kepler_v1_cor-filt-inp.fits'"
     ]
    }
   ],
   "source": [
    "## Load KEPSEISMIC lightcurve for KIC 2707716\n",
    "\n",
    "Star_ID = 2707716\n",
    "\n",
    "filename_lc = f'./hlsp_kepseismic_kepler_phot_kplr00{Star_ID}-55d_kepler_v1_cor-filt-inp.fits'\n",
    "\n",
    "hdul_lc = fits.open(filename_lc)\n",
    "\n",
    "star_lc = Table(hdul_lc[1].data).to_pandas()\n",
    "\n",
    "hdul_lc.close()\n",
    "\n",
    "time = star_lc.TIME.values\n",
    "\n",
    "### Load KEPSEISMIC power spectrum for KIC 2707716\n",
    "\n",
    "filename_psd = f'./hlsp_kepseismic_kepler_phot_kplr00{Star_ID}-55d_kepler_v1_cor-psd-filt-inp.fits'\n",
    "\n",
    "hdul_psd = fits.open(filename_psd)\n",
    "\n",
    "star_psd = Table(hdul_psd[1].data).to_pandas()\n",
    "\n",
    "hdul_psd.close()\n",
    "\n",
    "frequency, power = star_psd.TIME.values, star_psd.FLUX.values\n",
    "\n",
    "frequency = frequency * 10**6   # convert to muHz"
   ]
  },
  {
   "cell_type": "code",
   "execution_count": null,
   "id": "6df40531-191d-4a7a-b32d-fa99809e2f8b",
   "metadata": {},
   "outputs": [],
   "source": [
    "## Run pyMON\n",
    "\n",
    "# Smoothing scaling parameter\n",
    "sm = 2\n",
    "\n",
    "# Lower frequency to search for power excess. If set to None, the lowerp frequency will be determined from a full width half max estimate\n",
    "lowerp = None\n",
    "\n",
    "# Upper frequency to search for power excess. If set to None, the upperp frequency will be determined from a full width half max estimate\n",
    "upperp = None\n",
    "\n",
    "# background model to fit to power spectrum. Choice between: ['nuSYD', 'harvey', 'linear', 'white']\n",
    "bkg_model = 'linear'\n",
    "\n",
    "# an estimate for numax in muHz\n",
    "numax_est = 30.42  # from APOKASC3 (Pinsonneault et al., 2025)\n",
    "\n",
    "# number of interactions for the mc uncertainty sampling routine. Default is 500. Set to '0' to not estimate uncertainties\n",
    "mc_iters = 500\n",
    "\n",
    "# either a key which points to a coefficient and exponent in a seperate file, or a coefficient+exponent in a list\n",
    "# for the a general dnu-numax relation derived from 16,000 Kepler stars, use the key 'Yu18' (Yu et al., 2018) \n",
    "Dnu_relation = 'Yu18'\n",
    "\n",
    "\n",
    "# save inputs as a dictionary (must be passed into pyMON as a dict with all parameters)\n",
    "inputs = {'sm': sm, 'lowerp': lowerp, 'upperp': upperp, 'background_model': bkg_model, \n",
    "          'numax_est': numax_est, 'mc_iters': mc_iters, 'Dnu_relation': Dnu_relation}\n",
    "\n",
    "\n",
    "\n",
    "pyMON_df = pyMON(frequency, power, time, Star_ID, inputs)\n",
    "\n",
    "\n",
    "\n",
    "pyMON_df"
   ]
  },
  {
   "cell_type": "code",
   "execution_count": null,
   "id": "246bba05-eef1-463f-b36d-5f85f30962eb",
   "metadata": {},
   "outputs": [],
   "source": []
  }
 ],
 "metadata": {
  "kernelspec": {
   "display_name": "Python [conda env:base] *",
   "language": "python",
   "name": "conda-base-py"
  },
  "language_info": {
   "codemirror_mode": {
    "name": "ipython",
    "version": 3
   },
   "file_extension": ".py",
   "mimetype": "text/x-python",
   "name": "python",
   "nbconvert_exporter": "python",
   "pygments_lexer": "ipython3",
   "version": "3.12.7"
  }
 },
 "nbformat": 4,
 "nbformat_minor": 5
}
